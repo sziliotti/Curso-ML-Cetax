{
 "cells": [
  {
   "cell_type": "code",
   "execution_count": 1,
   "metadata": {
    "collapsed": true,
    "deletable": true,
    "editable": true
   },
   "outputs": [],
   "source": [
    "from sklearn import datasets\n",
    "import numpy as np\n",
    "import matplotlib.pyplot as plt\n",
    "from sklearn.model_selection import train_test_split\n",
    "from sklearn.metrics import accuracy_score\n",
    "from sklearn.svm import SVC\n",
    "\n",
    "%matplotlib inline"
   ]
  },
  {
   "cell_type": "code",
   "execution_count": 2,
   "metadata": {
    "collapsed": false,
    "deletable": true,
    "editable": true
   },
   "outputs": [],
   "source": [
    "iris = datasets.load_iris()\n",
    "X = iris.data[:, :2]\n",
    "y = iris.target\n",
    "\n",
    "# dividindo entre treino e teste\n",
    "X_train, X_test, y_train, y_test = train_test_split(X, y, test_size=0.2, random_state=42)"
   ]
  },
  {
   "cell_type": "code",
   "execution_count": 3,
   "metadata": {
    "collapsed": false,
    "deletable": true,
    "editable": true
   },
   "outputs": [
    {
     "data": {
      "text/plain": [
       "array([[ 4.6,  3.6],\n",
       "       [ 5.7,  4.4],\n",
       "       [ 6.7,  3.1],\n",
       "       [ 4.8,  3.4],\n",
       "       [ 4.4,  3.2],\n",
       "       [ 6.3,  2.5],\n",
       "       [ 6.4,  3.2],\n",
       "       [ 5.2,  3.5],\n",
       "       [ 5. ,  3.6],\n",
       "       [ 5.2,  4.1],\n",
       "       [ 5.8,  2.7],\n",
       "       [ 6. ,  3.4],\n",
       "       [ 6.7,  3.1],\n",
       "       [ 5.4,  3.9],\n",
       "       [ 5.4,  3.7],\n",
       "       [ 5.5,  2.4],\n",
       "       [ 6.3,  2.8],\n",
       "       [ 6.4,  3.1],\n",
       "       [ 6.6,  3. ],\n",
       "       [ 7.2,  3.6],\n",
       "       [ 5.7,  2.9],\n",
       "       [ 7.6,  3. ],\n",
       "       [ 5.6,  3. ],\n",
       "       [ 5.1,  3.5],\n",
       "       [ 7.7,  2.8],\n",
       "       [ 5.8,  2.7],\n",
       "       [ 5.2,  3.4],\n",
       "       [ 5. ,  3.5],\n",
       "       [ 5.1,  3.8],\n",
       "       [ 5. ,  2. ],\n",
       "       [ 6.3,  2.7],\n",
       "       [ 4.8,  3.4],\n",
       "       [ 5. ,  3. ],\n",
       "       [ 5.1,  3.3],\n",
       "       [ 5.6,  2.7],\n",
       "       [ 5.1,  3.4],\n",
       "       [ 5.7,  3. ],\n",
       "       [ 7.7,  3.8],\n",
       "       [ 4.6,  3.2],\n",
       "       [ 6.2,  2.9],\n",
       "       [ 5.7,  2.5],\n",
       "       [ 5.5,  4.2],\n",
       "       [ 6. ,  3. ],\n",
       "       [ 5.8,  2.7],\n",
       "       [ 6. ,  2.2],\n",
       "       [ 5.4,  3. ],\n",
       "       [ 6.2,  3.4],\n",
       "       [ 5.5,  2.3],\n",
       "       [ 5.4,  3.9],\n",
       "       [ 5. ,  2.3],\n",
       "       [ 6.4,  2.7],\n",
       "       [ 5. ,  3.3],\n",
       "       [ 5. ,  3.2],\n",
       "       [ 5.5,  2.4],\n",
       "       [ 6.7,  3. ],\n",
       "       [ 4.9,  3.1],\n",
       "       [ 5.8,  2.8],\n",
       "       [ 5. ,  3.4],\n",
       "       [ 5. ,  3.5],\n",
       "       [ 5.9,  3.2],\n",
       "       [ 5.1,  2.5],\n",
       "       [ 6.9,  3.2],\n",
       "       [ 6. ,  2.7],\n",
       "       [ 6.1,  2.6],\n",
       "       [ 7.7,  3. ],\n",
       "       [ 5.5,  2.5],\n",
       "       [ 4.4,  2.9],\n",
       "       [ 4.3,  3. ],\n",
       "       [ 6. ,  2.2],\n",
       "       [ 7.2,  3.2],\n",
       "       [ 4.6,  3.1],\n",
       "       [ 5.1,  3.5],\n",
       "       [ 4.4,  3. ],\n",
       "       [ 6.3,  2.5],\n",
       "       [ 6.3,  3.4],\n",
       "       [ 4.6,  3.4],\n",
       "       [ 6.8,  3. ],\n",
       "       [ 6.3,  3.3],\n",
       "       [ 4.7,  3.2],\n",
       "       [ 6.1,  2.9],\n",
       "       [ 6.5,  2.8],\n",
       "       [ 6.2,  2.8],\n",
       "       [ 7. ,  3.2],\n",
       "       [ 6.4,  3.2],\n",
       "       [ 5.1,  3.8],\n",
       "       [ 6.9,  3.1],\n",
       "       [ 5.9,  3. ],\n",
       "       [ 6.5,  3. ],\n",
       "       [ 5.7,  2.6],\n",
       "       [ 5.2,  2.7],\n",
       "       [ 6.1,  3. ],\n",
       "       [ 4.5,  2.3],\n",
       "       [ 6.6,  2.9],\n",
       "       [ 5.5,  2.6],\n",
       "       [ 5.3,  3.7],\n",
       "       [ 5.6,  3. ],\n",
       "       [ 7.3,  2.9],\n",
       "       [ 6.7,  3.3],\n",
       "       [ 5.1,  3.7],\n",
       "       [ 4.9,  2.4],\n",
       "       [ 6.7,  3.3],\n",
       "       [ 7.2,  3. ],\n",
       "       [ 4.9,  3.1],\n",
       "       [ 6.7,  3.1],\n",
       "       [ 4.9,  3. ],\n",
       "       [ 6.9,  3.1],\n",
       "       [ 7.4,  2.8],\n",
       "       [ 6.3,  2.9],\n",
       "       [ 5.7,  2.8],\n",
       "       [ 6.5,  3. ],\n",
       "       [ 6.3,  2.3],\n",
       "       [ 6.4,  2.9],\n",
       "       [ 5.6,  2.8],\n",
       "       [ 5.9,  3. ],\n",
       "       [ 5.4,  3.4],\n",
       "       [ 6.1,  2.8],\n",
       "       [ 4.9,  2.5],\n",
       "       [ 5.8,  4. ],\n",
       "       [ 5.8,  2.6],\n",
       "       [ 7.1,  3. ]])"
      ]
     },
     "execution_count": 3,
     "metadata": {},
     "output_type": "execute_result"
    }
   ],
   "source": [
    "X_train"
   ]
  },
  {
   "cell_type": "code",
   "execution_count": 4,
   "metadata": {
    "collapsed": false,
    "deletable": true,
    "editable": true
   },
   "outputs": [
    {
     "data": {
      "text/plain": [
       "array([0, 0, 1, 0, 0, 2, 1, 0, 0, 0, 2, 1, 1, 0, 0, 1, 2, 2, 1, 2, 1, 2, 1,\n",
       "       0, 2, 1, 0, 0, 0, 1, 2, 0, 0, 0, 1, 0, 1, 2, 0, 1, 2, 0, 2, 2, 1, 1,\n",
       "       2, 1, 0, 1, 2, 0, 0, 1, 1, 0, 2, 0, 0, 1, 1, 2, 1, 2, 2, 1, 0, 0, 2,\n",
       "       2, 0, 0, 0, 1, 2, 0, 2, 2, 0, 1, 1, 2, 1, 2, 0, 2, 1, 2, 1, 1, 1, 0,\n",
       "       1, 1, 0, 1, 2, 2, 0, 1, 2, 2, 0, 2, 0, 1, 2, 2, 1, 2, 1, 1, 2, 2, 0,\n",
       "       1, 2, 0, 1, 2])"
      ]
     },
     "execution_count": 4,
     "metadata": {},
     "output_type": "execute_result"
    }
   ],
   "source": [
    "y_train"
   ]
  },
  {
   "cell_type": "code",
   "execution_count": 5,
   "metadata": {
    "collapsed": false,
    "deletable": true,
    "editable": true
   },
   "outputs": [],
   "source": [
    "classifier = SVC(kernel='rbf', random_state = 42)\n",
    "classifier.fit(X_train, y_train)\n",
    "y_pred = classifier.predict(X_test)"
   ]
  },
  {
   "cell_type": "code",
   "execution_count": 6,
   "metadata": {
    "collapsed": false,
    "deletable": true,
    "editable": true
   },
   "outputs": [
    {
     "data": {
      "text/plain": [
       "0.90000000000000002"
      ]
     },
     "execution_count": 6,
     "metadata": {},
     "output_type": "execute_result"
    }
   ],
   "source": [
    "acc = accuracy_score(y_test, y_pred)\n",
    "acc"
   ]
  },
  {
   "cell_type": "code",
   "execution_count": 7,
   "metadata": {
    "collapsed": false,
    "deletable": true,
    "editable": true
   },
   "outputs": [
    {
     "data": {
      "image/png": "[encoded data removed]",
      "text/plain": [
       "<matplotlib.figure.Figure at 0x7f4746e45fd0>"
      ]
     },
     "metadata": {},
     "output_type": "display_data"
    }
   ],
   "source": [
    "#visualizando os dados\n",
    "\n",
    "plt.scatter(X[y == 0,0], X[y == 0,1], c = 'red', label='Virginica')\n",
    "plt.scatter(X[y == 1,0], X[y == 1,1], c = 'green', label='Versicolour')\n",
    "plt.scatter(X[y == 2,0], X[y == 2,1], c = 'blue', label='Setosa')\n",
    "plt.title('SVM (Training set)')\n",
    "plt.xlabel('Sepal length')\n",
    "plt.ylabel('Sepal width')\n",
    "plt.legend()\n",
    "plt.show()"
   ]
  },
  {
   "cell_type": "code",
   "execution_count": 8,
   "metadata": {
    "collapsed": false,
    "deletable": true,
    "editable": true
   },
   "outputs": [
    {
     "data": {
      "image/png": "[encoded data removed]",
      "text/plain": [
       "<matplotlib.figure.Figure at 0x7f4746954fd0>"
      ]
     },
     "metadata": {},
     "output_type": "display_data"
    }
   ],
   "source": [
    "# visualizando a fronteira de decisão\n",
    "\n",
    "from matplotlib.colors import ListedColormap\n",
    "X_set, y_set = X_test, y_test\n",
    "xx, yy = np.meshgrid(np.arange(start = X_set[:, 0].min() - 1, stop = X_set[:, 0].max() + 1, step = 0.01),\n",
    "                     np.arange(start = X_set[:, 1].min() - 1, stop = X_set[:, 1].max() + 1, step = 0.01))\n",
    "\n",
    "plt.contourf(xx, yy, classifier.predict(np.array([xx.ravel(), yy.ravel()]).T).reshape(xx.shape),\n",
    "             alpha = 0.75, cmap = ListedColormap(('red', 'green','blue')))\n",
    "plt.xlim(xx.min(), xx.max())\n",
    "plt.ylim(yy.min(), yy.max())\n",
    "for i, j in enumerate(np.unique(y_set)):\n",
    "    plt.scatter(X_set[y_set == j, 0], X_set[y_set == j, 1],\n",
    "                c = ListedColormap(('red', 'green','blue'))(i), label = j)\n",
    "plt.title('SVM (Training set)')\n",
    "plt.xlabel('Sepal length')\n",
    "plt.ylabel('Sepal width')\n",
    "plt.legend()\n",
    "plt.show()"
   ]
  },
  {
   "cell_type": "code",
   "execution_count": null,
   "metadata": {
    "collapsed": true,
    "deletable": true,
    "editable": true
   },
   "outputs": [],
   "source": []
  }
 ],
 "metadata": {
  "kernelspec": {
   "display_name": "Python 3",
   "language": "python",
   "name": "python3"
  },
  "language_info": {
   "codemirror_mode": {
    "name": "ipython",
    "version": 3
   },
   "file_extension": ".py",
   "mimetype": "text/x-python",
   "name": "python",
   "nbconvert_exporter": "python",
   "pygments_lexer": "ipython3",
   "version": "3.5.2"
  }
 },
 "nbformat": 4,
 "nbformat_minor": 2
}
