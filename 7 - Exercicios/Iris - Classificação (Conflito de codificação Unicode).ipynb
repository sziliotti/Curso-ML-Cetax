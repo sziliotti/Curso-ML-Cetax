{
 "cells": [
  {
   "cell_type": "code",
   "execution_count": 1,
   "metadata": {
    "collapsed": true,
    "deletable": true,
    "editable": true
   },
   "outputs": [],
   "source": [
    "from sklearn import datasets\n",
    "import numpy as np\n",
    "import matplotlib.pyplot as plt\n",
    "from sklearn.decomposition import PCA\n",
    "from sklearn.model_selection import train_test_split\n",
    "from sklearn.metrics import accuracy_score\n",
    "from sklearn.svm import SVC\n",
    "\n",
    "%matplotlib inline"
   ]
  },
  {
   "cell_type": "code",
   "execution_count": 2,
   "metadata": {
    "collapsed": false,
    "deletable": true,
    "editable": true
   },
   "outputs": [],
   "source": [
    "iris = datasets.load_iris()\n",
    "#X = iris.data[:, :2]\n",
    "X = iris.data\n",
    "y = iris.target\n",
    "\n",
    "# pegando as 2 componentes principais\n",
    "pca = PCA(n_components = 2, random_state = 42)\n",
    "X = pca.fit_transform(X)\n",
    "\n",
    "# dividindo entre treino e teste\n",
    "X_train, X_test, y_train, y_test = train_test_split(X, y, test_size=0.2, random_state=42)"
   ]
  },
  {
   "cell_type": "code",
   "execution_count": 3,
   "metadata": {
    "collapsed": false,
    "deletable": true,
    "editable": true
   },
   "outputs": [
    {
     "data": {
      "text/plain": [
       "array([[-3.21585769,  0.14161557],\n",
       "       [-2.38386932,  1.34475434],\n",
       "       [ 0.92757294,  0.46823621],\n",
       "       [-2.61314272,  0.02152063],\n",
       "       [-2.99829644, -0.33430757],\n",
       "       [ 1.52566363, -0.37502085],\n",
       "       [ 0.93241075,  0.31919809],\n",
       "       [-2.56239095,  0.37468456],\n",
       "       [-2.72859298,  0.33392456],\n",
       "       [-2.64763667,  0.81998263],\n",
       "       [ 1.41407223, -0.57492506],\n",
       "       [ 0.8072055 ,  0.19505396],\n",
       "       [ 1.22042897,  0.40803534],\n",
       "       [-2.6225262 ,  0.81808967],\n",
       "       [-2.50652679,  0.65193501],\n",
       "       [-0.19188449, -0.67749054],\n",
       "       [ 1.4431026 , -0.14380129],\n",
       "       [ 1.90486293,  0.04804751],\n",
       "       [ 0.89964086,  0.32961098],\n",
       "       [ 2.91813423,  0.78038063],\n",
       "       [ 0.37523823, -0.29162202],\n",
       "       [ 3.39687992,  0.54716805],\n",
       "       [ 0.65959279, -0.35197629],\n",
       "       [-2.68420713,  0.32660731],\n",
       "       [ 3.49926548,  0.45677347],\n",
       "       [ 0.23454059, -0.33192183],\n",
       "       [-2.63982127,  0.31929007],\n",
       "       [-2.77013891,  0.27105942],\n",
       "       [-2.20883295,  0.44269603],\n",
       "       [-0.5110862 , -1.26249195],\n",
       "       [ 1.38766825, -0.20403099],\n",
       "       [-2.35617109, -0.03120959],\n",
       "       [-2.50791723, -0.13905634],\n",
       "       [-2.30312854,  0.10552268],\n",
       "       [ 0.35553304, -0.50321849],\n",
       "       [-2.59032303,  0.23605934],\n",
       "       [ 0.33112695, -0.21118014],\n",
       "       [ 3.48876538,  1.17154454],\n",
       "       [-2.8403213 , -0.22057634],\n",
       "       [ 0.64169028,  0.01907118],\n",
       "       [ 1.34459422, -0.77641543],\n",
       "       [-2.59715948,  1.10002193],\n",
       "       [ 1.16885347, -0.1645025 ],\n",
       "       [ 1.41407223, -0.57492506],\n",
       "       [ 0.26233576, -0.5478933 ],\n",
       "       [ 0.58727485, -0.48328427],\n",
       "       [ 1.90162908,  0.11587675],\n",
       "       [ 0.18096721, -0.82560394],\n",
       "       [-2.27989736,  0.74778271],\n",
       "       [-0.70708128, -1.00842476],\n",
       "       [ 1.80234045, -0.21615461],\n",
       "       [-2.70391231,  0.11501085],\n",
       "       [-2.86699985,  0.0771931 ],\n",
       "       [-0.07034289, -0.70253793],\n",
       "       [ 1.55739627,  0.26739258],\n",
       "       [-2.67384469, -0.1066917 ],\n",
       "       [ 1.5852673 , -0.53930705],\n",
       "       [-2.62648199,  0.17040535],\n",
       "       [-2.4055141 ,  0.19591726],\n",
       "       [ 1.11624072, -0.08421401],\n",
       "       [-0.90846333, -0.75156873],\n",
       "       [ 2.42816726,  0.37678197],\n",
       "       [ 1.37873698, -0.42120514],\n",
       "       [ 1.77964011, -0.50146479],\n",
       "       [ 3.07652162,  0.68576444],\n",
       "       [ 0.16451343, -0.67966147],\n",
       "       [-2.88795857, -0.57079803],\n",
       "       [-3.22520045, -0.50327991],\n",
       "       [ 1.29832982, -0.76101394],\n",
       "       [ 2.61419383,  0.55836695],\n",
       "       [-2.7464372 , -0.31112432],\n",
       "       [-2.64832273,  0.31913667],\n",
       "       [-2.98184266, -0.48025005],\n",
       "       [ 1.29646885, -0.32756152],\n",
       "       [ 2.14498686,  0.13890661],\n",
       "       [-2.82089068, -0.08210451],\n",
       "       [ 2.16537886,  0.21528028],\n",
       "       [ 2.53172698, -0.01184224],\n",
       "       [-2.88981954, -0.13734561],\n",
       "       [ 0.98404455, -0.12436042],\n",
       "       [ 1.08713449,  0.07539039],\n",
       "       [ 1.25762518, -0.179137  ],\n",
       "       [ 1.28479459,  0.68543919],\n",
       "       [ 1.90474358,  0.11881899],\n",
       "       [-2.53757337,  0.51036755],\n",
       "       [ 2.10765373,  0.37148225],\n",
       "       [ 0.51109806, -0.10228411],\n",
       "       [ 1.76404594,  0.07851919],\n",
       "       [-0.30733476, -0.36508661],\n",
       "       [-0.01019007, -0.72057487],\n",
       "       [ 0.89016045, -0.03381244],\n",
       "       [-2.85221108, -0.93286537],\n",
       "       [ 1.04329778,  0.22895691],\n",
       "       [ 0.46303099, -0.66952655],\n",
       "       [-2.54268576,  0.58628103],\n",
       "       [ 0.24519516, -0.26672804],\n",
       "       [ 2.9320051 ,  0.35237701],\n",
       "       [ 2.27585365,  0.33338653],\n",
       "       [-2.54323491,  0.44003175],\n",
       "       [-0.75146714, -1.00110751],\n",
       "       [ 2.41939122,  0.30350394],\n",
       "       [ 2.3875644 ,  0.46251925],\n",
       "       [-2.67384469, -0.1066917 ],\n",
       "       [ 2.31430339,  0.18260885],\n",
       "       [-2.71539062, -0.16955685],\n",
       "       [ 1.46406132,  0.50418983],\n",
       "       [ 2.84096093,  0.37274259],\n",
       "       [ 1.97081495, -0.18112569],\n",
       "       [ 0.29780791, -0.34701652],\n",
       "       [ 1.94924878,  0.04073026],\n",
       "       [ 0.81286779, -0.370679  ],\n",
       "       [ 0.71400821,  0.15037915],\n",
       "       [ 1.19809737, -0.60557896],\n",
       "       [ 1.38966613, -0.28288671],\n",
       "       [-2.3105317 ,  0.39786782],\n",
       "       [ 0.35678657, -0.06682383],\n",
       "       [ 0.51938325, -1.19135169],\n",
       "       [-2.64354322,  1.1861949 ],\n",
       "       [ 0.22887905, -0.40225762],\n",
       "       [ 2.61648461,  0.34193529]])"
      ]
     },
     "execution_count": 3,
     "metadata": {},
     "output_type": "execute_result"
    }
   ],
   "source": [
    "X_train"
   ]
  },
  {
   "cell_type": "code",
   "execution_count": 4,
   "metadata": {
    "collapsed": false,
    "deletable": true,
    "editable": true
   },
   "outputs": [
    {
     "data": {
      "text/plain": [
       "array([0, 0, 1, 0, 0, 2, 1, 0, 0, 0, 2, 1, 1, 0, 0, 1, 2, 2, 1, 2, 1, 2, 1,\n",
       "       0, 2, 1, 0, 0, 0, 1, 2, 0, 0, 0, 1, 0, 1, 2, 0, 1, 2, 0, 2, 2, 1, 1,\n",
       "       2, 1, 0, 1, 2, 0, 0, 1, 1, 0, 2, 0, 0, 1, 1, 2, 1, 2, 2, 1, 0, 0, 2,\n",
       "       2, 0, 0, 0, 1, 2, 0, 2, 2, 0, 1, 1, 2, 1, 2, 0, 2, 1, 2, 1, 1, 1, 0,\n",
       "       1, 1, 0, 1, 2, 2, 0, 1, 2, 2, 0, 2, 0, 1, 2, 2, 1, 2, 1, 1, 2, 2, 0,\n",
       "       1, 2, 0, 1, 2])"
      ]
     },
     "execution_count": 4,
     "metadata": {},
     "output_type": "execute_result"
    }
   ],
   "source": [
    "y_train"
   ]
  },
  {
   "cell_type": "code",
   "execution_count": 5,
   "metadata": {
    "collapsed": false,
    "deletable": true,
    "editable": true
   },
   "outputs": [],
   "source": [
    "classifier = SVC(kernel='rbf', random_state = 42)\n",
    "classifier.fit(X_train, y_train)\n",
    "y_pred = classifier.predict(X_test)"
   ]
  },
  {
   "cell_type": "code",
   "execution_count": 6,
   "metadata": {
    "collapsed": false,
    "deletable": true,
    "editable": true
   },
   "outputs": [
    {
     "data": {
      "text/plain": [
       "1.0"
      ]
     },
     "execution_count": 6,
     "metadata": {},
     "output_type": "execute_result"
    }
   ],
   "source": [
    "acc = accuracy_score(y_test, y_pred)\n",
    "acc"
   ]
  },
  {
   "cell_type": "code",
   "execution_count": 7,
   "metadata": {
    "collapsed": false,
    "deletable": true,
    "editable": true
   },
   "outputs": [
    {
     "data": {
      "image/png": "[encoded data removed]",
      "text/plain": [
       "<matplotlib.figure.Figure at 0x7f8416e27b00>"
      ]
     },
     "metadata": {},
     "output_type": "display_data"
    }
   ],
   "source": [
    "#visualizando os dados\n",
    "\n",
    "plt.scatter(X[y == 0,0], X[y == 0,1], c = 'red', label='Setosa')\n",
    "plt.scatter(X[y == 1,0], X[y == 1,1], c = 'green', label='Versicolor')\n",
    "plt.scatter(X[y == 2,0], X[y == 2,1], c = 'blue', label='Virginica')\n",
    "plt.title('SVM (Training set)')\n",
    "plt.xlabel('Sepal length')\n",
    "plt.ylabel('Sepal width')\n",
    "plt.legend()\n",
    "plt.show()"
   ]
  },
  {
   "cell_type": "code",
   "execution_count": 8,
   "metadata": {
    "collapsed": false,
    "deletable": true,
    "editable": true
   },
   "outputs": [
    {
     "data": {
      "image/png": "[encoded data removed]",
      "text/plain": [
       "<matplotlib.figure.Figure at 0x7f84161afeb8>"
      ]
     },
     "metadata": {},
     "output_type": "display_data"
    }
   ],
   "source": [
    "# visualizando a fronteira de decisão\n",
    "\n",
    "from matplotlib.colors import ListedColormap\n",
    "X_set, y_set = X_test, y_test\n",
    "xx, yy = np.meshgrid(np.arange(start = X_set[:, 0].min() - 1, stop = X_set[:, 0].max() + 1, step = 0.01),\n",
    "                     np.arange(start = X_set[:, 1].min() - 1, stop = X_set[:, 1].max() + 1, step = 0.01))\n",
    "\n",
    "plt.contourf(xx, yy, classifier.predict(np.array([xx.ravel(), yy.ravel()]).T).reshape(xx.shape),\n",
    "             alpha = 0.75, cmap = ListedColormap(('red', 'green','blue')))\n",
    "plt.xlim(xx.min(), xx.max())\n",
    "plt.ylim(yy.min(), yy.max())\n",
    "for i, j in enumerate(np.unique(y_set)):\n",
    "    plt.scatter(X_set[y_set == j, 0], X_set[y_set == j, 1],\n",
    "                c = ListedColormap(('red', 'green','blue'))(i), label = j)\n",
    "plt.title('SVM (Training set)')\n",
    "plt.xlabel('Sepal length')\n",
    "plt.ylabel('Sepal width')\n",
    "plt.legend()\n",
    "plt.show()"
   ]
  },
  {
   "cell_type": "code",
   "execution_count": null,
   "metadata": {
    "collapsed": true,
    "deletable": true,
    "editable": true
   },
   "outputs": [],
   "source": []
  }
 ],
 "metadata": {
  "kernelspec": {
   "display_name": "Python 3",
   "language": "python",
   "name": "python3"
  },
  "language_info": {
   "codemirror_mode": {
    "name": "ipython",
    "version": 3
   },
   "file_extension": ".py",
   "mimetype": "text/x-python",
   "name": "python",
   "nbconvert_exporter": "python",
   "pygments_lexer": "ipython3",
   "version": "3.5.2"
  }
 },
 "nbformat": 4,
 "nbformat_minor": 2
}
